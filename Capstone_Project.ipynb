{
 "cells": [
  {
   "cell_type": "markdown",
   "metadata": {},
   "source": [
    "# Capstone Project - Car Accident Severity Prediction"
   ]
  },
  {
   "cell_type": "markdown",
   "metadata": {},
   "source": [
    "## Applied Data Science Capstone by IBM/Coursera"
   ]
  },
  {
   "cell_type": "markdown",
   "metadata": {},
   "source": [
    "## Table of contents\n",
    "* [Introduction: Business Problem](#introduction)\n",
    "* [Data](#data)\n",
    "* [Methodology](#methodology)\n",
    "* [Analysis](#analysis)\n",
    "* [Results and Discussion](#results)\n",
    "* [Conclusion](#conclusion)"
   ]
  },
  {
   "cell_type": "markdown",
   "metadata": {},
   "source": [
    "## Introduction: Business Problem <a name=\"introduction\"></a>"
   ]
  },
  {
   "cell_type": "markdown",
   "metadata": {},
   "source": [
    "The object of this project is predicting the severity of an accident by time, driving condition and location. The target of this project is car drivers, the project will inform them about under which conditions they need to be more caution. If the drivers are more caution under dangerous conditions, there will be less accidents occur.\n",
    "\n",
    "In addition, this project can also help Seattle Department of Transportation providing signs at locations where accidents occur frequently. \n"
   ]
  },
  {
   "cell_type": "markdown",
   "metadata": {},
   "source": [
    "## Data <a name=\"data\"></a>"
   ]
  },
  {
   "cell_type": "markdown",
   "metadata": {},
   "source": [
    "Based on definition of our problem, the factors that will influence our analysis are:\n",
    "\n",
    "* **Type of location of the accident**: Represented by **ADDRTYPE**, *e.g. block, intersection*. \n",
    "* **Severity**: **The target of this project**, represented by **SEVERITYCODE**, *1 means property damage only, 2 means injury collision, 2b means serious injury, and 3 means fatality*\n",
    "* **Date**: The date and time of the accident, represented by **INCDTTM**\n",
    "* **Condition**: The weather condition **WEATHER**, *e.g. clear, raining*, the road condition **ROADCOND**, *e.g. wet, dry* and the light condition **LIGHTCOND** during the collision *e.g. daylight, dark*.\n",
    "\n",
    "**The dataset used in this project is provied by Seattle Department of Transportation, which can be found** [here](https://s3.us.cloud-object-storage.appdomain.cloud/cf-courses-data/CognitiveClass/DP0701EN/version-2/Data-Collisions.csv)"
   ]
  },
  {
   "cell_type": "markdown",
   "metadata": {},
   "source": [
    "Firstly, we import the libraries we need for this project: "
   ]
  },
  {
   "cell_type": "code",
   "execution_count": 2,
   "metadata": {},
   "outputs": [],
   "source": [
    "import pandas as pd\n",
    "import numpy as np\n",
    "import matplotlib.pyplot as plt\n",
    "import seaborn as sns\n",
    "from sklearn.model_selection import train_test_split\n",
    "from sklearn.linear_model import LogisticRegression\n",
    "from sklearn.metrics import classification_report, confusion_matrix"
   ]
  },
  {
   "cell_type": "markdown",
   "metadata": {},
   "source": [
    "Then, read the dataset and name it as collisions using pd.read_csv():"
   ]
  },
  {
   "cell_type": "code",
   "execution_count": 3,
   "metadata": {},
   "outputs": [
    {
     "name": "stderr",
     "output_type": "stream",
     "text": [
      "/home/jupyterlab/conda/envs/python/lib/python3.6/site-packages/IPython/core/interactiveshell.py:3072: DtypeWarning: Columns (33) have mixed types.Specify dtype option on import or set low_memory=False.\n",
      "  interactivity=interactivity, compiler=compiler, result=result)\n"
     ]
    },
    {
     "data": {
      "text/html": [
       "<div>\n",
       "<style scoped>\n",
       "    .dataframe tbody tr th:only-of-type {\n",
       "        vertical-align: middle;\n",
       "    }\n",
       "\n",
       "    .dataframe tbody tr th {\n",
       "        vertical-align: top;\n",
       "    }\n",
       "\n",
       "    .dataframe thead th {\n",
       "        text-align: right;\n",
       "    }\n",
       "</style>\n",
       "<table border=\"1\" class=\"dataframe\">\n",
       "  <thead>\n",
       "    <tr style=\"text-align: right;\">\n",
       "      <th></th>\n",
       "      <th>SEVERITYCODE</th>\n",
       "      <th>X</th>\n",
       "      <th>Y</th>\n",
       "      <th>OBJECTID</th>\n",
       "      <th>INCKEY</th>\n",
       "      <th>COLDETKEY</th>\n",
       "      <th>REPORTNO</th>\n",
       "      <th>STATUS</th>\n",
       "      <th>ADDRTYPE</th>\n",
       "      <th>INTKEY</th>\n",
       "      <th>...</th>\n",
       "      <th>ROADCOND</th>\n",
       "      <th>LIGHTCOND</th>\n",
       "      <th>PEDROWNOTGRNT</th>\n",
       "      <th>SDOTCOLNUM</th>\n",
       "      <th>SPEEDING</th>\n",
       "      <th>ST_COLCODE</th>\n",
       "      <th>ST_COLDESC</th>\n",
       "      <th>SEGLANEKEY</th>\n",
       "      <th>CROSSWALKKEY</th>\n",
       "      <th>HITPARKEDCAR</th>\n",
       "    </tr>\n",
       "  </thead>\n",
       "  <tbody>\n",
       "    <tr>\n",
       "      <th>0</th>\n",
       "      <td>2</td>\n",
       "      <td>-122.323148</td>\n",
       "      <td>47.703140</td>\n",
       "      <td>1</td>\n",
       "      <td>1307</td>\n",
       "      <td>1307</td>\n",
       "      <td>3502005</td>\n",
       "      <td>Matched</td>\n",
       "      <td>Intersection</td>\n",
       "      <td>37475.0</td>\n",
       "      <td>...</td>\n",
       "      <td>Wet</td>\n",
       "      <td>Daylight</td>\n",
       "      <td>NaN</td>\n",
       "      <td>NaN</td>\n",
       "      <td>NaN</td>\n",
       "      <td>10</td>\n",
       "      <td>Entering at angle</td>\n",
       "      <td>0</td>\n",
       "      <td>0</td>\n",
       "      <td>N</td>\n",
       "    </tr>\n",
       "    <tr>\n",
       "      <th>1</th>\n",
       "      <td>1</td>\n",
       "      <td>-122.347294</td>\n",
       "      <td>47.647172</td>\n",
       "      <td>2</td>\n",
       "      <td>52200</td>\n",
       "      <td>52200</td>\n",
       "      <td>2607959</td>\n",
       "      <td>Matched</td>\n",
       "      <td>Block</td>\n",
       "      <td>NaN</td>\n",
       "      <td>...</td>\n",
       "      <td>Wet</td>\n",
       "      <td>Dark - Street Lights On</td>\n",
       "      <td>NaN</td>\n",
       "      <td>6354039.0</td>\n",
       "      <td>NaN</td>\n",
       "      <td>11</td>\n",
       "      <td>From same direction - both going straight - bo...</td>\n",
       "      <td>0</td>\n",
       "      <td>0</td>\n",
       "      <td>N</td>\n",
       "    </tr>\n",
       "    <tr>\n",
       "      <th>2</th>\n",
       "      <td>1</td>\n",
       "      <td>-122.334540</td>\n",
       "      <td>47.607871</td>\n",
       "      <td>3</td>\n",
       "      <td>26700</td>\n",
       "      <td>26700</td>\n",
       "      <td>1482393</td>\n",
       "      <td>Matched</td>\n",
       "      <td>Block</td>\n",
       "      <td>NaN</td>\n",
       "      <td>...</td>\n",
       "      <td>Dry</td>\n",
       "      <td>Daylight</td>\n",
       "      <td>NaN</td>\n",
       "      <td>4323031.0</td>\n",
       "      <td>NaN</td>\n",
       "      <td>32</td>\n",
       "      <td>One parked--one moving</td>\n",
       "      <td>0</td>\n",
       "      <td>0</td>\n",
       "      <td>N</td>\n",
       "    </tr>\n",
       "    <tr>\n",
       "      <th>3</th>\n",
       "      <td>1</td>\n",
       "      <td>-122.334803</td>\n",
       "      <td>47.604803</td>\n",
       "      <td>4</td>\n",
       "      <td>1144</td>\n",
       "      <td>1144</td>\n",
       "      <td>3503937</td>\n",
       "      <td>Matched</td>\n",
       "      <td>Block</td>\n",
       "      <td>NaN</td>\n",
       "      <td>...</td>\n",
       "      <td>Dry</td>\n",
       "      <td>Daylight</td>\n",
       "      <td>NaN</td>\n",
       "      <td>NaN</td>\n",
       "      <td>NaN</td>\n",
       "      <td>23</td>\n",
       "      <td>From same direction - all others</td>\n",
       "      <td>0</td>\n",
       "      <td>0</td>\n",
       "      <td>N</td>\n",
       "    </tr>\n",
       "    <tr>\n",
       "      <th>4</th>\n",
       "      <td>2</td>\n",
       "      <td>-122.306426</td>\n",
       "      <td>47.545739</td>\n",
       "      <td>5</td>\n",
       "      <td>17700</td>\n",
       "      <td>17700</td>\n",
       "      <td>1807429</td>\n",
       "      <td>Matched</td>\n",
       "      <td>Intersection</td>\n",
       "      <td>34387.0</td>\n",
       "      <td>...</td>\n",
       "      <td>Wet</td>\n",
       "      <td>Daylight</td>\n",
       "      <td>NaN</td>\n",
       "      <td>4028032.0</td>\n",
       "      <td>NaN</td>\n",
       "      <td>10</td>\n",
       "      <td>Entering at angle</td>\n",
       "      <td>0</td>\n",
       "      <td>0</td>\n",
       "      <td>N</td>\n",
       "    </tr>\n",
       "  </tbody>\n",
       "</table>\n",
       "<p>5 rows × 38 columns</p>\n",
       "</div>"
      ],
      "text/plain": [
       "   SEVERITYCODE           X          Y  OBJECTID  INCKEY  COLDETKEY REPORTNO  \\\n",
       "0             2 -122.323148  47.703140         1    1307       1307  3502005   \n",
       "1             1 -122.347294  47.647172         2   52200      52200  2607959   \n",
       "2             1 -122.334540  47.607871         3   26700      26700  1482393   \n",
       "3             1 -122.334803  47.604803         4    1144       1144  3503937   \n",
       "4             2 -122.306426  47.545739         5   17700      17700  1807429   \n",
       "\n",
       "    STATUS      ADDRTYPE   INTKEY  ... ROADCOND                LIGHTCOND  \\\n",
       "0  Matched  Intersection  37475.0  ...      Wet                 Daylight   \n",
       "1  Matched         Block      NaN  ...      Wet  Dark - Street Lights On   \n",
       "2  Matched         Block      NaN  ...      Dry                 Daylight   \n",
       "3  Matched         Block      NaN  ...      Dry                 Daylight   \n",
       "4  Matched  Intersection  34387.0  ...      Wet                 Daylight   \n",
       "\n",
       "  PEDROWNOTGRNT  SDOTCOLNUM SPEEDING ST_COLCODE  \\\n",
       "0           NaN         NaN      NaN         10   \n",
       "1           NaN   6354039.0      NaN         11   \n",
       "2           NaN   4323031.0      NaN         32   \n",
       "3           NaN         NaN      NaN         23   \n",
       "4           NaN   4028032.0      NaN         10   \n",
       "\n",
       "                                          ST_COLDESC  SEGLANEKEY  \\\n",
       "0                                  Entering at angle           0   \n",
       "1  From same direction - both going straight - bo...           0   \n",
       "2                             One parked--one moving           0   \n",
       "3                   From same direction - all others           0   \n",
       "4                                  Entering at angle           0   \n",
       "\n",
       "   CROSSWALKKEY  HITPARKEDCAR  \n",
       "0             0             N  \n",
       "1             0             N  \n",
       "2             0             N  \n",
       "3             0             N  \n",
       "4             0             N  \n",
       "\n",
       "[5 rows x 38 columns]"
      ]
     },
     "execution_count": 3,
     "metadata": {},
     "output_type": "execute_result"
    }
   ],
   "source": [
    "collisions = pd.read_csv('Data-Collisions.csv')\n",
    "collisions.head()"
   ]
  },
  {
   "cell_type": "markdown",
   "metadata": {},
   "source": [
    "Check the informations of our dataset using .info():"
   ]
  },
  {
   "cell_type": "code",
   "execution_count": 4,
   "metadata": {},
   "outputs": [
    {
     "name": "stdout",
     "output_type": "stream",
     "text": [
      "<class 'pandas.core.frame.DataFrame'>\n",
      "RangeIndex: 194673 entries, 0 to 194672\n",
      "Data columns (total 38 columns):\n",
      " #   Column          Non-Null Count   Dtype  \n",
      "---  ------          --------------   -----  \n",
      " 0   SEVERITYCODE    194673 non-null  int64  \n",
      " 1   X               189339 non-null  float64\n",
      " 2   Y               189339 non-null  float64\n",
      " 3   OBJECTID        194673 non-null  int64  \n",
      " 4   INCKEY          194673 non-null  int64  \n",
      " 5   COLDETKEY       194673 non-null  int64  \n",
      " 6   REPORTNO        194673 non-null  object \n",
      " 7   STATUS          194673 non-null  object \n",
      " 8   ADDRTYPE        192747 non-null  object \n",
      " 9   INTKEY          65070 non-null   float64\n",
      " 10  LOCATION        191996 non-null  object \n",
      " 11  EXCEPTRSNCODE   84811 non-null   object \n",
      " 12  EXCEPTRSNDESC   5638 non-null    object \n",
      " 13  SEVERITYCODE.1  194673 non-null  int64  \n",
      " 14  SEVERITYDESC    194673 non-null  object \n",
      " 15  COLLISIONTYPE   189769 non-null  object \n",
      " 16  PERSONCOUNT     194673 non-null  int64  \n",
      " 17  PEDCOUNT        194673 non-null  int64  \n",
      " 18  PEDCYLCOUNT     194673 non-null  int64  \n",
      " 19  VEHCOUNT        194673 non-null  int64  \n",
      " 20  INCDATE         194673 non-null  object \n",
      " 21  INCDTTM         194673 non-null  object \n",
      " 22  JUNCTIONTYPE    188344 non-null  object \n",
      " 23  SDOT_COLCODE    194673 non-null  int64  \n",
      " 24  SDOT_COLDESC    194673 non-null  object \n",
      " 25  INATTENTIONIND  29805 non-null   object \n",
      " 26  UNDERINFL       189789 non-null  object \n",
      " 27  WEATHER         189592 non-null  object \n",
      " 28  ROADCOND        189661 non-null  object \n",
      " 29  LIGHTCOND       189503 non-null  object \n",
      " 30  PEDROWNOTGRNT   4667 non-null    object \n",
      " 31  SDOTCOLNUM      114936 non-null  float64\n",
      " 32  SPEEDING        9333 non-null    object \n",
      " 33  ST_COLCODE      194655 non-null  object \n",
      " 34  ST_COLDESC      189769 non-null  object \n",
      " 35  SEGLANEKEY      194673 non-null  int64  \n",
      " 36  CROSSWALKKEY    194673 non-null  int64  \n",
      " 37  HITPARKEDCAR    194673 non-null  object \n",
      "dtypes: float64(4), int64(12), object(22)\n",
      "memory usage: 56.4+ MB\n"
     ]
    }
   ],
   "source": [
    "collisions.info()"
   ]
  },
  {
   "cell_type": "markdown",
   "metadata": {},
   "source": [
    "# Methodology"
   ]
  },
  {
   "cell_type": "markdown",
   "metadata": {},
   "source": [
    "## Data Cleaning"
   ]
  },
  {
   "cell_type": "markdown",
   "metadata": {},
   "source": [
    "Not all the factors are used for the analysis, we only keep the factors mentioned in **Data** section"
   ]
  },
  {
   "cell_type": "code",
   "execution_count": 5,
   "metadata": {},
   "outputs": [
    {
     "data": {
      "text/html": [
       "<div>\n",
       "<style scoped>\n",
       "    .dataframe tbody tr th:only-of-type {\n",
       "        vertical-align: middle;\n",
       "    }\n",
       "\n",
       "    .dataframe tbody tr th {\n",
       "        vertical-align: top;\n",
       "    }\n",
       "\n",
       "    .dataframe thead th {\n",
       "        text-align: right;\n",
       "    }\n",
       "</style>\n",
       "<table border=\"1\" class=\"dataframe\">\n",
       "  <thead>\n",
       "    <tr style=\"text-align: right;\">\n",
       "      <th></th>\n",
       "      <th>SEVERITYCODE</th>\n",
       "      <th>ADDRTYPE</th>\n",
       "      <th>INCDTTM</th>\n",
       "      <th>WEATHER</th>\n",
       "      <th>ROADCOND</th>\n",
       "      <th>LIGHTCOND</th>\n",
       "    </tr>\n",
       "  </thead>\n",
       "  <tbody>\n",
       "    <tr>\n",
       "      <th>0</th>\n",
       "      <td>2</td>\n",
       "      <td>Intersection</td>\n",
       "      <td>3/27/2013 2:54:00 PM</td>\n",
       "      <td>Overcast</td>\n",
       "      <td>Wet</td>\n",
       "      <td>Daylight</td>\n",
       "    </tr>\n",
       "    <tr>\n",
       "      <th>1</th>\n",
       "      <td>1</td>\n",
       "      <td>Block</td>\n",
       "      <td>12/20/2006 6:55:00 PM</td>\n",
       "      <td>Raining</td>\n",
       "      <td>Wet</td>\n",
       "      <td>Dark - Street Lights On</td>\n",
       "    </tr>\n",
       "    <tr>\n",
       "      <th>2</th>\n",
       "      <td>1</td>\n",
       "      <td>Block</td>\n",
       "      <td>11/18/2004 10:20:00 AM</td>\n",
       "      <td>Overcast</td>\n",
       "      <td>Dry</td>\n",
       "      <td>Daylight</td>\n",
       "    </tr>\n",
       "    <tr>\n",
       "      <th>3</th>\n",
       "      <td>1</td>\n",
       "      <td>Block</td>\n",
       "      <td>3/29/2013 9:26:00 AM</td>\n",
       "      <td>Clear</td>\n",
       "      <td>Dry</td>\n",
       "      <td>Daylight</td>\n",
       "    </tr>\n",
       "    <tr>\n",
       "      <th>4</th>\n",
       "      <td>2</td>\n",
       "      <td>Intersection</td>\n",
       "      <td>1/28/2004 8:04:00 AM</td>\n",
       "      <td>Raining</td>\n",
       "      <td>Wet</td>\n",
       "      <td>Daylight</td>\n",
       "    </tr>\n",
       "  </tbody>\n",
       "</table>\n",
       "</div>"
      ],
      "text/plain": [
       "   SEVERITYCODE      ADDRTYPE                 INCDTTM   WEATHER ROADCOND  \\\n",
       "0             2  Intersection    3/27/2013 2:54:00 PM  Overcast      Wet   \n",
       "1             1         Block   12/20/2006 6:55:00 PM   Raining      Wet   \n",
       "2             1         Block  11/18/2004 10:20:00 AM  Overcast      Dry   \n",
       "3             1         Block    3/29/2013 9:26:00 AM     Clear      Dry   \n",
       "4             2  Intersection    1/28/2004 8:04:00 AM   Raining      Wet   \n",
       "\n",
       "                 LIGHTCOND  \n",
       "0                 Daylight  \n",
       "1  Dark - Street Lights On  \n",
       "2                 Daylight  \n",
       "3                 Daylight  \n",
       "4                 Daylight  "
      ]
     },
     "execution_count": 5,
     "metadata": {},
     "output_type": "execute_result"
    }
   ],
   "source": [
    "collisions = collisions.reset_index()[['SEVERITYCODE', 'ADDRTYPE', 'INCDTTM', 'WEATHER', 'ROADCOND', 'LIGHTCOND']]\n",
    "collisions.head()"
   ]
  },
  {
   "cell_type": "markdown",
   "metadata": {},
   "source": [
    "### Missing Values\n",
    "Count the number of missing values in the factors we are interested in"
   ]
  },
  {
   "cell_type": "code",
   "execution_count": 6,
   "metadata": {},
   "outputs": [
    {
     "data": {
      "text/plain": [
       "SEVERITYCODE       0\n",
       "ADDRTYPE        1926\n",
       "INCDTTM            0\n",
       "WEATHER         5081\n",
       "ROADCOND        5012\n",
       "LIGHTCOND       5170\n",
       "dtype: int64"
      ]
     },
     "execution_count": 6,
     "metadata": {},
     "output_type": "execute_result"
    }
   ],
   "source": [
    "collisions.isnull().sum()"
   ]
  },
  {
   "cell_type": "markdown",
   "metadata": {},
   "source": [
    "We can find that there are only few missing values (less than 5%) in each factor, therefore we can drop the missing values in all features. "
   ]
  },
  {
   "cell_type": "code",
   "execution_count": 7,
   "metadata": {},
   "outputs": [],
   "source": [
    "collisions = collisions.dropna()"
   ]
  },
  {
   "cell_type": "code",
   "execution_count": 8,
   "metadata": {},
   "outputs": [
    {
     "data": {
      "text/plain": [
       "SEVERITYCODE    0\n",
       "ADDRTYPE        0\n",
       "INCDTTM         0\n",
       "WEATHER         0\n",
       "ROADCOND        0\n",
       "LIGHTCOND       0\n",
       "dtype: int64"
      ]
     },
     "execution_count": 8,
     "metadata": {},
     "output_type": "execute_result"
    }
   ],
   "source": [
    "collisions.isnull().sum()"
   ]
  },
  {
   "cell_type": "markdown",
   "metadata": {},
   "source": [
    "There are values such as 'unknown' and 'other' under **WEATHER**, **LIGHTCOND** and **ROADCOND** which also need to be removed: "
   ]
  },
  {
   "cell_type": "code",
   "execution_count": 9,
   "metadata": {},
   "outputs": [],
   "source": [
    "collisions['WEATHER'] = collisions['WEATHER'].replace(to_replace=['Unknown', 'Other'], value=np.nan)\n",
    "collisions['ROADCOND'] = collisions['ROADCOND'].replace(to_replace=['Unknown', 'Other'], value=np.nan)\n",
    "collisions['LIGHTCOND'] = collisions['LIGHTCOND'].replace(to_replace=['Unknown', 'Other', 'Dark - Unknown Lighting'], value=np.nan)\n",
    "collisions = collisions.dropna()"
   ]
  },
  {
   "cell_type": "markdown",
   "metadata": {},
   "source": [
    "### Convert Data"
   ]
  },
  {
   "cell_type": "markdown",
   "metadata": {},
   "source": [
    "Check the types of the data in interested features: "
   ]
  },
  {
   "cell_type": "code",
   "execution_count": 10,
   "metadata": {},
   "outputs": [
    {
     "name": "stdout",
     "output_type": "stream",
     "text": [
      "<class 'pandas.core.frame.DataFrame'>\n",
      "Int64Index: 169239 entries, 0 to 194672\n",
      "Data columns (total 6 columns):\n",
      " #   Column        Non-Null Count   Dtype \n",
      "---  ------        --------------   ----- \n",
      " 0   SEVERITYCODE  169239 non-null  int64 \n",
      " 1   ADDRTYPE      169239 non-null  object\n",
      " 2   INCDTTM       169239 non-null  object\n",
      " 3   WEATHER       169239 non-null  object\n",
      " 4   ROADCOND      169239 non-null  object\n",
      " 5   LIGHTCOND     169239 non-null  object\n",
      "dtypes: int64(1), object(5)\n",
      "memory usage: 9.0+ MB\n"
     ]
    }
   ],
   "source": [
    "collisions.info()"
   ]
  },
  {
   "cell_type": "markdown",
   "metadata": {},
   "source": [
    "We can find that the data type of **INCDTTM** is **object**, we need to change it to **datetime64**. "
   ]
  },
  {
   "cell_type": "code",
   "execution_count": 11,
   "metadata": {},
   "outputs": [
    {
     "name": "stdout",
     "output_type": "stream",
     "text": [
      "<class 'pandas.core.frame.DataFrame'>\n",
      "Int64Index: 169239 entries, 0 to 194672\n",
      "Data columns (total 6 columns):\n",
      " #   Column        Non-Null Count   Dtype         \n",
      "---  ------        --------------   -----         \n",
      " 0   SEVERITYCODE  169239 non-null  int64         \n",
      " 1   ADDRTYPE      169239 non-null  object        \n",
      " 2   INCDTTM       169239 non-null  datetime64[ns]\n",
      " 3   WEATHER       169239 non-null  object        \n",
      " 4   ROADCOND      169239 non-null  object        \n",
      " 5   LIGHTCOND     169239 non-null  object        \n",
      "dtypes: datetime64[ns](1), int64(1), object(4)\n",
      "memory usage: 9.0+ MB\n"
     ]
    }
   ],
   "source": [
    "collisions['INCDTTM'] = pd.to_datetime(collisions['INCDTTM'])\n",
    "collisions.info()"
   ]
  },
  {
   "cell_type": "markdown",
   "metadata": {},
   "source": [
    "Then, we extract new factors **hour**, **day** and **month** from **INCDTTM** and drop the original **INCDTTM** column"
   ]
  },
  {
   "cell_type": "code",
   "execution_count": 12,
   "metadata": {},
   "outputs": [
    {
     "data": {
      "text/html": [
       "<div>\n",
       "<style scoped>\n",
       "    .dataframe tbody tr th:only-of-type {\n",
       "        vertical-align: middle;\n",
       "    }\n",
       "\n",
       "    .dataframe tbody tr th {\n",
       "        vertical-align: top;\n",
       "    }\n",
       "\n",
       "    .dataframe thead th {\n",
       "        text-align: right;\n",
       "    }\n",
       "</style>\n",
       "<table border=\"1\" class=\"dataframe\">\n",
       "  <thead>\n",
       "    <tr style=\"text-align: right;\">\n",
       "      <th></th>\n",
       "      <th>SEVERITYCODE</th>\n",
       "      <th>ADDRTYPE</th>\n",
       "      <th>WEATHER</th>\n",
       "      <th>ROADCOND</th>\n",
       "      <th>LIGHTCOND</th>\n",
       "      <th>HOUR</th>\n",
       "      <th>DAY</th>\n",
       "      <th>MONTH</th>\n",
       "    </tr>\n",
       "  </thead>\n",
       "  <tbody>\n",
       "    <tr>\n",
       "      <th>0</th>\n",
       "      <td>2</td>\n",
       "      <td>Intersection</td>\n",
       "      <td>Overcast</td>\n",
       "      <td>Wet</td>\n",
       "      <td>Daylight</td>\n",
       "      <td>14</td>\n",
       "      <td>Wednesday</td>\n",
       "      <td>March</td>\n",
       "    </tr>\n",
       "    <tr>\n",
       "      <th>1</th>\n",
       "      <td>1</td>\n",
       "      <td>Block</td>\n",
       "      <td>Raining</td>\n",
       "      <td>Wet</td>\n",
       "      <td>Dark - Street Lights On</td>\n",
       "      <td>18</td>\n",
       "      <td>Wednesday</td>\n",
       "      <td>December</td>\n",
       "    </tr>\n",
       "    <tr>\n",
       "      <th>2</th>\n",
       "      <td>1</td>\n",
       "      <td>Block</td>\n",
       "      <td>Overcast</td>\n",
       "      <td>Dry</td>\n",
       "      <td>Daylight</td>\n",
       "      <td>10</td>\n",
       "      <td>Thursday</td>\n",
       "      <td>November</td>\n",
       "    </tr>\n",
       "    <tr>\n",
       "      <th>3</th>\n",
       "      <td>1</td>\n",
       "      <td>Block</td>\n",
       "      <td>Clear</td>\n",
       "      <td>Dry</td>\n",
       "      <td>Daylight</td>\n",
       "      <td>9</td>\n",
       "      <td>Friday</td>\n",
       "      <td>March</td>\n",
       "    </tr>\n",
       "    <tr>\n",
       "      <th>4</th>\n",
       "      <td>2</td>\n",
       "      <td>Intersection</td>\n",
       "      <td>Raining</td>\n",
       "      <td>Wet</td>\n",
       "      <td>Daylight</td>\n",
       "      <td>8</td>\n",
       "      <td>Wednesday</td>\n",
       "      <td>January</td>\n",
       "    </tr>\n",
       "  </tbody>\n",
       "</table>\n",
       "</div>"
      ],
      "text/plain": [
       "   SEVERITYCODE      ADDRTYPE   WEATHER ROADCOND                LIGHTCOND  \\\n",
       "0             2  Intersection  Overcast      Wet                 Daylight   \n",
       "1             1         Block   Raining      Wet  Dark - Street Lights On   \n",
       "2             1         Block  Overcast      Dry                 Daylight   \n",
       "3             1         Block     Clear      Dry                 Daylight   \n",
       "4             2  Intersection   Raining      Wet                 Daylight   \n",
       "\n",
       "   HOUR        DAY     MONTH  \n",
       "0    14  Wednesday     March  \n",
       "1    18  Wednesday  December  \n",
       "2    10   Thursday  November  \n",
       "3     9     Friday     March  \n",
       "4     8  Wednesday   January  "
      ]
     },
     "execution_count": 12,
     "metadata": {},
     "output_type": "execute_result"
    }
   ],
   "source": [
    "collisions['HOUR'] = collisions[\"INCDTTM\"].dt.hour\n",
    "collisions['DAY'] = collisions[\"INCDTTM\"].dt.day_name()\n",
    "collisions['MONTH'] = collisions[\"INCDTTM\"].dt.month\n",
    "\n",
    "month = {1:'January', 2:'February', 3:'March', 4:'April', 5:'May', 6:'June', 7:'July', 8:'August', 9:'September', 10:'October', 11:'November', 12:'December'}\n",
    "collisions['MONTH'] = collisions['MONTH'].apply(lambda x: month[x])\n",
    "\n",
    "collisions.drop(columns = ['INCDTTM'], inplace = True)\n",
    "\n",
    "collisions.head()"
   ]
  },
  {
   "cell_type": "markdown",
   "metadata": {},
   "source": [
    "### Balancing the Dataset\n",
    "\n",
    "Firstly, check the number of data under each category of each factor"
   ]
  },
  {
   "cell_type": "code",
   "execution_count": 13,
   "metadata": {},
   "outputs": [
    {
     "data": {
      "text/plain": [
       "Block           107379\n",
       "Intersection     61267\n",
       "Alley              593\n",
       "Name: ADDRTYPE, dtype: int64"
      ]
     },
     "execution_count": 13,
     "metadata": {},
     "output_type": "execute_result"
    }
   ],
   "source": [
    "collisions['ADDRTYPE'].value_counts()"
   ]
  },
  {
   "cell_type": "code",
   "execution_count": 14,
   "metadata": {},
   "outputs": [
    {
     "data": {
      "text/plain": [
       "Clear                       108374\n",
       "Raining                      32510\n",
       "Overcast                     26809\n",
       "Snowing                        821\n",
       "Fog/Smog/Smoke                 547\n",
       "Sleet/Hail/Freezing Rain       106\n",
       "Blowing Sand/Dirt               42\n",
       "Severe Crosswind                25\n",
       "Partly Cloudy                    5\n",
       "Name: WEATHER, dtype: int64"
      ]
     },
     "execution_count": 14,
     "metadata": {},
     "output_type": "execute_result"
    }
   ],
   "source": [
    "collisions['WEATHER'].value_counts()"
   ]
  },
  {
   "cell_type": "markdown",
   "metadata": {},
   "source": [
    "Here, we can see that the categories 'Blowing Sand/Dirt', 'Severe Crosswind' and 'Partly Cloudy' have only a few data, so we also need to remove them"
   ]
  },
  {
   "cell_type": "code",
   "execution_count": 15,
   "metadata": {},
   "outputs": [],
   "source": [
    "collisions['WEATHER'] = collisions['WEATHER'].replace(to_replace= ['Partly Cloudy', 'Severe Crosswind', 'Blowing Sand/Dirt'], value=np.nan)"
   ]
  },
  {
   "cell_type": "code",
   "execution_count": 16,
   "metadata": {},
   "outputs": [
    {
     "data": {
      "text/plain": [
       "Dry               120978\n",
       "Wet                46135\n",
       "Ice                 1072\n",
       "Snow/Slush           829\n",
       "Standing Water       101\n",
       "Sand/Mud/Dirt         64\n",
       "Oil                   60\n",
       "Name: ROADCOND, dtype: int64"
      ]
     },
     "execution_count": 16,
     "metadata": {},
     "output_type": "execute_result"
    }
   ],
   "source": [
    "collisions['ROADCOND'].value_counts()"
   ]
  },
  {
   "cell_type": "markdown",
   "metadata": {},
   "source": [
    "The categories 'Sand/Mud/Dirt' and 'Oil' have only a few data, they need to be removed"
   ]
  },
  {
   "cell_type": "code",
   "execution_count": 17,
   "metadata": {},
   "outputs": [],
   "source": [
    "collisions['ROADCOND'] = collisions['ROADCOND'].replace(to_replace= ['Oil', 'Sand/Mud/Dirt'], value=np.nan)"
   ]
  },
  {
   "cell_type": "code",
   "execution_count": 18,
   "metadata": {},
   "outputs": [
    {
     "data": {
      "text/plain": [
       "Daylight                    112126\n",
       "Dark - Street Lights On      46589\n",
       "Dusk                          5610\n",
       "Dawn                          2404\n",
       "Dark - No Street Lights       1402\n",
       "Dark - Street Lights Off      1108\n",
       "Name: LIGHTCOND, dtype: int64"
      ]
     },
     "execution_count": 18,
     "metadata": {},
     "output_type": "execute_result"
    }
   ],
   "source": [
    "collisions['LIGHTCOND'].value_counts()"
   ]
  },
  {
   "cell_type": "code",
   "execution_count": 19,
   "metadata": {},
   "outputs": [
    {
     "data": {
      "text/plain": [
       "0     25843\n",
       "17    11706\n",
       "16    11093\n",
       "15    10493\n",
       "14     9776\n",
       "13     9278\n",
       "12     9152\n",
       "18     8601\n",
       "8      7587\n",
       "11     7416\n",
       "9      7161\n",
       "10     6537\n",
       "19     6428\n",
       "7      5882\n",
       "20     5433\n",
       "21     4937\n",
       "22     4819\n",
       "23     3948\n",
       "2      3212\n",
       "1      3065\n",
       "6      2835\n",
       "5      1512\n",
       "3      1444\n",
       "4      1081\n",
       "Name: HOUR, dtype: int64"
      ]
     },
     "execution_count": 19,
     "metadata": {},
     "output_type": "execute_result"
    }
   ],
   "source": [
    "collisions['HOUR'].value_counts()"
   ]
  },
  {
   "cell_type": "code",
   "execution_count": 20,
   "metadata": {},
   "outputs": [
    {
     "data": {
      "text/plain": [
       "Friday       28159\n",
       "Thursday     25579\n",
       "Wednesday    25057\n",
       "Tuesday      24827\n",
       "Saturday     23920\n",
       "Monday       22727\n",
       "Sunday       18970\n",
       "Name: DAY, dtype: int64"
      ]
     },
     "execution_count": 20,
     "metadata": {},
     "output_type": "execute_result"
    }
   ],
   "source": [
    "collisions['DAY'].value_counts()"
   ]
  },
  {
   "cell_type": "code",
   "execution_count": 21,
   "metadata": {},
   "outputs": [
    {
     "data": {
      "text/plain": [
       "October      15437\n",
       "June         14689\n",
       "May          14600\n",
       "July         14497\n",
       "August       14375\n",
       "November     14270\n",
       "March        14113\n",
       "January      14091\n",
       "September    14014\n",
       "April        13982\n",
       "December     13132\n",
       "February     12039\n",
       "Name: MONTH, dtype: int64"
      ]
     },
     "execution_count": 21,
     "metadata": {},
     "output_type": "execute_result"
    }
   ],
   "source": [
    "collisions['MONTH'].value_counts()"
   ]
  },
  {
   "cell_type": "markdown",
   "metadata": {},
   "source": [
    "No category need to be removed from **LIGHTCOND**, **HOUR**, **DAY** and **MONTH**"
   ]
  },
  {
   "cell_type": "code",
   "execution_count": 22,
   "metadata": {},
   "outputs": [],
   "source": [
    "collisions = collisions.dropna()"
   ]
  },
  {
   "cell_type": "markdown",
   "metadata": {},
   "source": [
    "Then, we need to check whether our data set is balanced by checking the number of data under each category of target **SEVERITYCODE**:"
   ]
  },
  {
   "cell_type": "code",
   "execution_count": 23,
   "metadata": {},
   "outputs": [
    {
     "data": {
      "text/plain": [
       "1    113571\n",
       "2     55472\n",
       "Name: SEVERITYCODE, dtype: int64"
      ]
     },
     "execution_count": 23,
     "metadata": {},
     "output_type": "execute_result"
    }
   ],
   "source": [
    "collisions[\"SEVERITYCODE\"].value_counts()"
   ]
  },
  {
   "cell_type": "markdown",
   "metadata": {},
   "source": [
    "We can see that our target **SEVERITYCODE** is not balanced, the data under class 1 is two times the size of class 2. We need to balance the data by downsampling class 1. "
   ]
  },
  {
   "cell_type": "code",
   "execution_count": 24,
   "metadata": {},
   "outputs": [],
   "source": [
    "from sklearn.utils import resample"
   ]
  },
  {
   "cell_type": "code",
   "execution_count": 25,
   "metadata": {},
   "outputs": [
    {
     "data": {
      "text/plain": [
       "2    55472\n",
       "1    55472\n",
       "Name: SEVERITYCODE, dtype: int64"
      ]
     },
     "execution_count": 25,
     "metadata": {},
     "output_type": "execute_result"
    }
   ],
   "source": [
    "collisions_SC1 = collisions[collisions['SEVERITYCODE'] == 1]\n",
    "collisions_SC2 = collisions[collisions['SEVERITYCODE'] == 2]\n",
    "\n",
    "collisions_SC1 = resample(collisions_SC1, n_samples = 55472)\n",
    "collisions = pd.concat([collisions_SC1, collisions_SC2])\n",
    "\n",
    "collisions[\"SEVERITYCODE\"].value_counts()"
   ]
  },
  {
   "cell_type": "markdown",
   "metadata": {},
   "source": [
    "## Explanatory Data Analysis"
   ]
  },
  {
   "cell_type": "markdown",
   "metadata": {},
   "source": [
    "In this section, we are analyzing under which condition the accidents are more severe by comparing the percentage of accident with **SEVERITYCODE** 2 among all accidents under each condition. Firstly, we compare different address types: "
   ]
  },
  {
   "cell_type": "code",
   "execution_count": 26,
   "metadata": {},
   "outputs": [
    {
     "data": {
      "text/html": [
       "<div>\n",
       "<style scoped>\n",
       "    .dataframe tbody tr th:only-of-type {\n",
       "        vertical-align: middle;\n",
       "    }\n",
       "\n",
       "    .dataframe tbody tr th {\n",
       "        vertical-align: top;\n",
       "    }\n",
       "\n",
       "    .dataframe thead th {\n",
       "        text-align: right;\n",
       "    }\n",
       "</style>\n",
       "<table border=\"1\" class=\"dataframe\">\n",
       "  <thead>\n",
       "    <tr style=\"text-align: right;\">\n",
       "      <th></th>\n",
       "      <th>PERCENTAGES</th>\n",
       "    </tr>\n",
       "    <tr>\n",
       "      <th>ADDRTYPE</th>\n",
       "      <th></th>\n",
       "    </tr>\n",
       "  </thead>\n",
       "  <tbody>\n",
       "    <tr>\n",
       "      <th>Alley</th>\n",
       "      <td>23.69</td>\n",
       "    </tr>\n",
       "    <tr>\n",
       "      <th>Block</th>\n",
       "      <td>42.64</td>\n",
       "    </tr>\n",
       "    <tr>\n",
       "      <th>Intersection</th>\n",
       "      <td>61.55</td>\n",
       "    </tr>\n",
       "  </tbody>\n",
       "</table>\n",
       "</div>"
      ],
      "text/plain": [
       "              PERCENTAGES\n",
       "ADDRTYPE                 \n",
       "Alley               23.69\n",
       "Block               42.64\n",
       "Intersection        61.55"
      ]
     },
     "execution_count": 26,
     "metadata": {},
     "output_type": "execute_result"
    }
   ],
   "source": [
    "grpd_add = collisions.groupby(['SEVERITYCODE','ADDRTYPE']).size().unstack(fill_value=0).stack().reset_index(name='COUNTS')\n",
    "grpd_add_SC1 = grpd_add[grpd_add['SEVERITYCODE'] == 1].reset_index()\n",
    "grpd_add_SC2 = grpd_add[grpd_add['SEVERITYCODE'] == 2].reset_index()\n",
    "grpd_add_SC_perc = ((grpd_add_SC2[['COUNTS']] / (grpd_add_SC1[['COUNTS']] + grpd_add_SC2[['COUNTS']])) * 100).round(2)\n",
    "grpd_add_SC_perc = pd.concat([grpd_add_SC1['ADDRTYPE'], grpd_add_SC_perc['COUNTS']], axis = 1)\n",
    "grpd_add_SC_perc.set_index('ADDRTYPE', inplace = True)\n",
    "grpd_add_SC_perc.rename(columns = {'COUNTS':'PERCENTAGES'}, inplace = True)\n",
    "grpd_add_SC_perc"
   ]
  },
  {
   "cell_type": "code",
   "execution_count": 27,
   "metadata": {},
   "outputs": [
    {
     "data": {
      "image/png": "[encoded data removed]",
      "text/plain": [
       "<Figure size 648x432 with 1 Axes>"
      ]
     },
     "metadata": {
      "needs_background": "light"
     },
     "output_type": "display_data"
    }
   ],
   "source": [
    "ax_add = grpd_add_SC_perc.plot(kind = 'bar', width = 0.4, figsize = (9,6))\n",
    "ax_add.set_title(\"Percentage of accidents involving injuries among all accidents at different locations\")\n",
    "legend = ax_add.legend()\n",
    "for percentage in ax_add.patches:\n",
    "    ax_add.annotate(str(percentage.get_height()) + '%', xy = (percentage.get_x() + 0.05, percentage.get_height() + 0.3), fontsize = 14)\n"
   ]
  },
  {
   "cell_type": "markdown",
   "metadata": {},
   "source": [
    "We can see that type of an address is correlated to the severity of an accident. At intersections, the accidents are tend to be most severe while at alleys, the accidents are tend to be less severe. \n",
    "\n",
    "Then, we compare different kinds of weather: "
   ]
  },
  {
   "cell_type": "code",
   "execution_count": 28,
   "metadata": {},
   "outputs": [
    {
     "data": {
      "text/html": [
       "<div>\n",
       "<style scoped>\n",
       "    .dataframe tbody tr th:only-of-type {\n",
       "        vertical-align: middle;\n",
       "    }\n",
       "\n",
       "    .dataframe tbody tr th {\n",
       "        vertical-align: top;\n",
       "    }\n",
       "\n",
       "    .dataframe thead th {\n",
       "        text-align: right;\n",
       "    }\n",
       "</style>\n",
       "<table border=\"1\" class=\"dataframe\">\n",
       "  <thead>\n",
       "    <tr style=\"text-align: right;\">\n",
       "      <th></th>\n",
       "      <th>PERCENTAGES</th>\n",
       "    </tr>\n",
       "    <tr>\n",
       "      <th>WEATHER</th>\n",
       "      <th></th>\n",
       "    </tr>\n",
       "  </thead>\n",
       "  <tbody>\n",
       "    <tr>\n",
       "      <th>Clear</th>\n",
       "      <td>49.89</td>\n",
       "    </tr>\n",
       "    <tr>\n",
       "      <th>Fog/Smog/Smoke</th>\n",
       "      <td>49.32</td>\n",
       "    </tr>\n",
       "    <tr>\n",
       "      <th>Overcast</th>\n",
       "      <td>49.16</td>\n",
       "    </tr>\n",
       "    <tr>\n",
       "      <th>Raining</th>\n",
       "      <td>51.49</td>\n",
       "    </tr>\n",
       "    <tr>\n",
       "      <th>Sleet/Hail/Freezing Rain</th>\n",
       "      <td>45.76</td>\n",
       "    </tr>\n",
       "    <tr>\n",
       "      <th>Snowing</th>\n",
       "      <td>32.27</td>\n",
       "    </tr>\n",
       "  </tbody>\n",
       "</table>\n",
       "</div>"
      ],
      "text/plain": [
       "                          PERCENTAGES\n",
       "WEATHER                              \n",
       "Clear                           49.89\n",
       "Fog/Smog/Smoke                  49.32\n",
       "Overcast                        49.16\n",
       "Raining                         51.49\n",
       "Sleet/Hail/Freezing Rain        45.76\n",
       "Snowing                         32.27"
      ]
     },
     "execution_count": 28,
     "metadata": {},
     "output_type": "execute_result"
    }
   ],
   "source": [
    "grpd_weat = collisions.groupby(['SEVERITYCODE','WEATHER']).size().unstack(fill_value=0).stack().reset_index(name='COUNTS')\n",
    "grpd_weat_SC1 = grpd_weat[grpd_weat['SEVERITYCODE'] == 1].reset_index()\n",
    "grpd_weat_SC2 = grpd_weat[grpd_weat['SEVERITYCODE'] == 2].reset_index()\n",
    "grpd_weat_SC_perc = (grpd_weat_SC2[['COUNTS']] / (grpd_weat_SC1[['COUNTS']] + grpd_weat_SC2[['COUNTS']]) * 100).round(2)\n",
    "grpd_weat_SC_perc = pd.concat([grpd_weat_SC1['WEATHER'], grpd_weat_SC_perc['COUNTS']], axis = 1)\n",
    "grpd_weat_SC_perc.rename(columns = {'COUNTS':'PERCENTAGES'}, inplace = True)\n",
    "grpd_weat_SC_perc.set_index('WEATHER', inplace = True)\n",
    "grpd_weat_SC_perc"
   ]
  },
  {
   "cell_type": "code",
   "execution_count": 29,
   "metadata": {},
   "outputs": [
    {
     "data": {
      "image/png": "[encoded data removed]",
      "text/plain": [
       "<Figure size 1440x720 with 1 Axes>"
      ]
     },
     "metadata": {
      "needs_background": "light"
     },
     "output_type": "display_data"
    }
   ],
   "source": [
    "ax_weat = grpd_weat_SC_perc.plot(kind = 'bar', figsize = (20, 10))\n",
    "ax_weat.set_title(\"Percentage of accidents involving injuries among all accidents at different weathers\", fontsize = 16)\n",
    "legend = ax_weat.legend()\n",
    "for percentage in ax_weat.patches:\n",
    "    ax_weat.annotate(str(percentage.get_height()) + '%', xy = (percentage.get_x() + 0.1, percentage.get_height() + 0.3), fontsize = 14)\n"
   ]
  },
  {
   "cell_type": "markdown",
   "metadata": {},
   "source": [
    "From the data above, we can infer that the weather condition is also correlated to severity of the accident, the accidents tend to be less severe when there is freezing rain or snowing. A possible reason is that people tend to drive slower under these weather conditions. \n",
    "\n",
    "Then, we compare different kinds of road conditions: "
   ]
  },
  {
   "cell_type": "code",
   "execution_count": 30,
   "metadata": {},
   "outputs": [
    {
     "data": {
      "text/html": [
       "<div>\n",
       "<style scoped>\n",
       "    .dataframe tbody tr th:only-of-type {\n",
       "        vertical-align: middle;\n",
       "    }\n",
       "\n",
       "    .dataframe tbody tr th {\n",
       "        vertical-align: top;\n",
       "    }\n",
       "\n",
       "    .dataframe thead th {\n",
       "        text-align: right;\n",
       "    }\n",
       "</style>\n",
       "<table border=\"1\" class=\"dataframe\">\n",
       "  <thead>\n",
       "    <tr style=\"text-align: right;\">\n",
       "      <th></th>\n",
       "      <th>PERCENTAGES</th>\n",
       "    </tr>\n",
       "    <tr>\n",
       "      <th>ROADCOND</th>\n",
       "      <th></th>\n",
       "    </tr>\n",
       "  </thead>\n",
       "  <tbody>\n",
       "    <tr>\n",
       "      <th>Dry</th>\n",
       "      <td>49.76</td>\n",
       "    </tr>\n",
       "    <tr>\n",
       "      <th>Ice</th>\n",
       "      <td>40.41</td>\n",
       "    </tr>\n",
       "    <tr>\n",
       "      <th>Snow/Slush</th>\n",
       "      <td>30.85</td>\n",
       "    </tr>\n",
       "    <tr>\n",
       "      <th>Standing Water</th>\n",
       "      <td>45.00</td>\n",
       "    </tr>\n",
       "    <tr>\n",
       "      <th>Wet</th>\n",
       "      <td>51.17</td>\n",
       "    </tr>\n",
       "  </tbody>\n",
       "</table>\n",
       "</div>"
      ],
      "text/plain": [
       "                PERCENTAGES\n",
       "ROADCOND                   \n",
       "Dry                   49.76\n",
       "Ice                   40.41\n",
       "Snow/Slush            30.85\n",
       "Standing Water        45.00\n",
       "Wet                   51.17"
      ]
     },
     "execution_count": 30,
     "metadata": {},
     "output_type": "execute_result"
    }
   ],
   "source": [
    "grpd_rd = collisions.groupby(['SEVERITYCODE','ROADCOND']).size().unstack(fill_value=0).stack().reset_index(name='COUNTS')\n",
    "grpd_rd_SC1 = grpd_rd[grpd_rd['SEVERITYCODE'] == 1].reset_index()\n",
    "grpd_rd_SC2 = grpd_rd[grpd_rd['SEVERITYCODE'] == 2].reset_index()\n",
    "grpd_rd_SC_perc = (grpd_rd_SC2[['COUNTS']] / (grpd_rd_SC1[['COUNTS']] + grpd_rd_SC2[['COUNTS']]) * 100).round(2)\n",
    "grpd_rd_SC_perc = pd.concat([grpd_rd_SC1['ROADCOND'], grpd_rd_SC_perc['COUNTS']], axis = 1)\n",
    "grpd_rd_SC_perc.rename(columns = {'COUNTS':'PERCENTAGES'}, inplace = True)\n",
    "grpd_rd_SC_perc.set_index('ROADCOND', inplace = True)\n",
    "grpd_rd_SC_perc"
   ]
  },
  {
   "cell_type": "code",
   "execution_count": 31,
   "metadata": {},
   "outputs": [
    {
     "data": {
      "image/png": "[encoded data removed]",
      "text/plain": [
       "<Figure size 1440x720 with 1 Axes>"
      ]
     },
     "metadata": {
      "needs_background": "light"
     },
     "output_type": "display_data"
    }
   ],
   "source": [
    "ax_rd = grpd_rd_SC_perc.plot(kind = 'bar', figsize = (20, 10))\n",
    "ax_rd.set_title(\"Percentage of accidents involving injuries among all accidents at different road conditions\", fontsize = 16)\n",
    "legend = ax_rd.legend()\n",
    "for percentage in ax_rd.patches:\n",
    "    ax_rd.annotate(str(percentage.get_height()) + '%', xy = (percentage.get_x() + 0.1, percentage.get_height() + 0.3), fontsize = 14)"
   ]
  },
  {
   "cell_type": "markdown",
   "metadata": {},
   "source": [
    "We can infer that the accidents are less severe when there is snow or ice on the road. "
   ]
  },
  {
   "cell_type": "code",
   "execution_count": 32,
   "metadata": {},
   "outputs": [
    {
     "data": {
      "text/html": [
       "<div>\n",
       "<style scoped>\n",
       "    .dataframe tbody tr th:only-of-type {\n",
       "        vertical-align: middle;\n",
       "    }\n",
       "\n",
       "    .dataframe tbody tr th {\n",
       "        vertical-align: top;\n",
       "    }\n",
       "\n",
       "    .dataframe thead th {\n",
       "        text-align: right;\n",
       "    }\n",
       "</style>\n",
       "<table border=\"1\" class=\"dataframe\">\n",
       "  <thead>\n",
       "    <tr style=\"text-align: right;\">\n",
       "      <th></th>\n",
       "      <th>PERCENTAGES</th>\n",
       "    </tr>\n",
       "    <tr>\n",
       "      <th>LIGHTCOND</th>\n",
       "      <th></th>\n",
       "    </tr>\n",
       "  </thead>\n",
       "  <tbody>\n",
       "    <tr>\n",
       "      <th>Dark - No Street Lights</th>\n",
       "      <td>36.82</td>\n",
       "    </tr>\n",
       "    <tr>\n",
       "      <th>Dark - Street Lights Off</th>\n",
       "      <td>43.44</td>\n",
       "    </tr>\n",
       "    <tr>\n",
       "      <th>Dark - Street Lights On</th>\n",
       "      <td>47.55</td>\n",
       "    </tr>\n",
       "    <tr>\n",
       "      <th>Dawn</th>\n",
       "      <td>52.04</td>\n",
       "    </tr>\n",
       "    <tr>\n",
       "      <th>Daylight</th>\n",
       "      <td>51.05</td>\n",
       "    </tr>\n",
       "    <tr>\n",
       "      <th>Dusk</th>\n",
       "      <td>52.33</td>\n",
       "    </tr>\n",
       "  </tbody>\n",
       "</table>\n",
       "</div>"
      ],
      "text/plain": [
       "                          PERCENTAGES\n",
       "LIGHTCOND                            \n",
       "Dark - No Street Lights         36.82\n",
       "Dark - Street Lights Off        43.44\n",
       "Dark - Street Lights On         47.55\n",
       "Dawn                            52.04\n",
       "Daylight                        51.05\n",
       "Dusk                            52.33"
      ]
     },
     "execution_count": 32,
     "metadata": {},
     "output_type": "execute_result"
    }
   ],
   "source": [
    "grpd_lt = collisions.groupby(['SEVERITYCODE','LIGHTCOND']).size().unstack(fill_value=0).stack().reset_index(name='COUNTS')\n",
    "grpd_lt_SC1 = grpd_lt[grpd_lt['SEVERITYCODE'] == 1].reset_index()\n",
    "grpd_lt_SC2 = grpd_lt[grpd_lt['SEVERITYCODE'] == 2].reset_index()\n",
    "grpd_lt_SC_perc = (grpd_lt_SC2[['COUNTS']] / (grpd_lt_SC1[['COUNTS']] + grpd_lt_SC2[['COUNTS']]) * 100).round(2)\n",
    "grpd_lt_SC_perc = pd.concat([grpd_lt_SC1['LIGHTCOND'], grpd_lt_SC_perc['COUNTS']], axis = 1)\n",
    "grpd_lt_SC_perc.rename(columns = {'COUNTS':'PERCENTAGES'}, inplace = True)\n",
    "grpd_lt_SC_perc.set_index('LIGHTCOND', inplace = True)\n",
    "grpd_lt_SC_perc"
   ]
  },
  {
   "cell_type": "code",
   "execution_count": 33,
   "metadata": {},
   "outputs": [
    {
     "data": {
      "image/png": "[encoded data removed]",
      "text/plain": [
       "<Figure size 1440x720 with 1 Axes>"
      ]
     },
     "metadata": {
      "needs_background": "light"
     },
     "output_type": "display_data"
    }
   ],
   "source": [
    "ax_lt = grpd_lt_SC_perc.plot(kind = 'bar', figsize = (20, 10))\n",
    "ax_lt.set_title(\"Percentage of accidents involving injuries among all accidents at different road conditions\", fontsize = 16)\n",
    "legend = ax_lt.legend()\n",
    "for percentage in ax_lt.patches:\n",
    "    ax_lt.annotate(str(percentage.get_height()) + '%', xy = (percentage.get_x() + 0.1, percentage.get_height() + 0.3), fontsize = 14)"
   ]
  },
  {
   "cell_type": "markdown",
   "metadata": {},
   "source": [
    "We can infer that the accidents tend to be less severe when the light is more insufficient. "
   ]
  },
  {
   "cell_type": "code",
   "execution_count": 34,
   "metadata": {},
   "outputs": [
    {
     "data": {
      "text/html": [
       "<div>\n",
       "<style scoped>\n",
       "    .dataframe tbody tr th:only-of-type {\n",
       "        vertical-align: middle;\n",
       "    }\n",
       "\n",
       "    .dataframe tbody tr th {\n",
       "        vertical-align: top;\n",
       "    }\n",
       "\n",
       "    .dataframe thead th {\n",
       "        text-align: right;\n",
       "    }\n",
       "</style>\n",
       "<table border=\"1\" class=\"dataframe\">\n",
       "  <thead>\n",
       "    <tr style=\"text-align: right;\">\n",
       "      <th></th>\n",
       "      <th>PERCENTAGES</th>\n",
       "    </tr>\n",
       "    <tr>\n",
       "      <th>HOUR</th>\n",
       "      <th></th>\n",
       "    </tr>\n",
       "  </thead>\n",
       "  <tbody>\n",
       "    <tr>\n",
       "      <th>0</th>\n",
       "      <td>47.41</td>\n",
       "    </tr>\n",
       "    <tr>\n",
       "      <th>1</th>\n",
       "      <td>42.52</td>\n",
       "    </tr>\n",
       "    <tr>\n",
       "      <th>2</th>\n",
       "      <td>42.87</td>\n",
       "    </tr>\n",
       "    <tr>\n",
       "      <th>3</th>\n",
       "      <td>38.50</td>\n",
       "    </tr>\n",
       "    <tr>\n",
       "      <th>4</th>\n",
       "      <td>39.32</td>\n",
       "    </tr>\n",
       "    <tr>\n",
       "      <th>5</th>\n",
       "      <td>48.52</td>\n",
       "    </tr>\n",
       "    <tr>\n",
       "      <th>6</th>\n",
       "      <td>52.48</td>\n",
       "    </tr>\n",
       "    <tr>\n",
       "      <th>7</th>\n",
       "      <td>52.43</td>\n",
       "    </tr>\n",
       "    <tr>\n",
       "      <th>8</th>\n",
       "      <td>52.15</td>\n",
       "    </tr>\n",
       "    <tr>\n",
       "      <th>9</th>\n",
       "      <td>50.72</td>\n",
       "    </tr>\n",
       "    <tr>\n",
       "      <th>10</th>\n",
       "      <td>49.33</td>\n",
       "    </tr>\n",
       "    <tr>\n",
       "      <th>11</th>\n",
       "      <td>48.88</td>\n",
       "    </tr>\n",
       "    <tr>\n",
       "      <th>12</th>\n",
       "      <td>48.59</td>\n",
       "    </tr>\n",
       "    <tr>\n",
       "      <th>13</th>\n",
       "      <td>49.59</td>\n",
       "    </tr>\n",
       "    <tr>\n",
       "      <th>14</th>\n",
       "      <td>50.41</td>\n",
       "    </tr>\n",
       "    <tr>\n",
       "      <th>15</th>\n",
       "      <td>52.66</td>\n",
       "    </tr>\n",
       "    <tr>\n",
       "      <th>16</th>\n",
       "      <td>52.27</td>\n",
       "    </tr>\n",
       "    <tr>\n",
       "      <th>17</th>\n",
       "      <td>54.35</td>\n",
       "    </tr>\n",
       "    <tr>\n",
       "      <th>18</th>\n",
       "      <td>55.18</td>\n",
       "    </tr>\n",
       "    <tr>\n",
       "      <th>19</th>\n",
       "      <td>51.02</td>\n",
       "    </tr>\n",
       "    <tr>\n",
       "      <th>20</th>\n",
       "      <td>48.80</td>\n",
       "    </tr>\n",
       "    <tr>\n",
       "      <th>21</th>\n",
       "      <td>49.97</td>\n",
       "    </tr>\n",
       "    <tr>\n",
       "      <th>22</th>\n",
       "      <td>47.59</td>\n",
       "    </tr>\n",
       "    <tr>\n",
       "      <th>23</th>\n",
       "      <td>43.92</td>\n",
       "    </tr>\n",
       "  </tbody>\n",
       "</table>\n",
       "</div>"
      ],
      "text/plain": [
       "      PERCENTAGES\n",
       "HOUR             \n",
       "0           47.41\n",
       "1           42.52\n",
       "2           42.87\n",
       "3           38.50\n",
       "4           39.32\n",
       "5           48.52\n",
       "6           52.48\n",
       "7           52.43\n",
       "8           52.15\n",
       "9           50.72\n",
       "10          49.33\n",
       "11          48.88\n",
       "12          48.59\n",
       "13          49.59\n",
       "14          50.41\n",
       "15          52.66\n",
       "16          52.27\n",
       "17          54.35\n",
       "18          55.18\n",
       "19          51.02\n",
       "20          48.80\n",
       "21          49.97\n",
       "22          47.59\n",
       "23          43.92"
      ]
     },
     "execution_count": 34,
     "metadata": {},
     "output_type": "execute_result"
    }
   ],
   "source": [
    "grpd_hr = collisions.groupby(['SEVERITYCODE','HOUR']).size().unstack(fill_value=0).stack().reset_index(name='COUNTS')\n",
    "grpd_hr_SC1 = grpd_hr[grpd_hr['SEVERITYCODE'] == 1].reset_index()\n",
    "grpd_hr_SC2 = grpd_hr[grpd_hr['SEVERITYCODE'] == 2].reset_index()\n",
    "grpd_hr_SC_perc = (grpd_hr_SC2[['COUNTS']] / (grpd_hr_SC1[['COUNTS']] + grpd_hr_SC2[['COUNTS']]) * 100).round(2)\n",
    "grpd_hr_SC_perc = pd.concat([grpd_hr_SC1['HOUR'], grpd_hr_SC_perc['COUNTS']], axis = 1)\n",
    "grpd_hr_SC_perc.rename(columns = {'COUNTS':'PERCENTAGES'}, inplace = True)\n",
    "grpd_hr_SC_perc.set_index('HOUR', inplace = True)\n",
    "grpd_hr_SC_perc"
   ]
  },
  {
   "cell_type": "code",
   "execution_count": 35,
   "metadata": {},
   "outputs": [
    {
     "data": {
      "image/png": "[encoded data removed]",
      "text/plain": [
       "<Figure size 1800x504 with 1 Axes>"
      ]
     },
     "metadata": {
      "needs_background": "light"
     },
     "output_type": "display_data"
    }
   ],
   "source": [
    "ax_hr = grpd_hr_SC_perc.plot(kind = 'line', figsize = (25, 7))\n",
    "ax_hr.set_title(\"Percentage of accidents involving injuries among all accidents at different times\", fontsize = 16)\n",
    "legend = ax_hr.legend()\n",
    "for percentage in ax_hr.patches:\n",
    "    ax_hr.annotate(str(percentage.get_height()) + '%', xy = (percentage.get_x(), percentage.get_height() + 0.3), fontsize = 8)"
   ]
  },
  {
   "cell_type": "markdown",
   "metadata": {},
   "source": [
    "We can infer that the accident tend to be more severe at rush hours, probably because there more cars on the road at rush hours. "
   ]
  },
  {
   "cell_type": "code",
   "execution_count": 36,
   "metadata": {},
   "outputs": [
    {
     "data": {
      "text/html": [
       "<div>\n",
       "<style scoped>\n",
       "    .dataframe tbody tr th:only-of-type {\n",
       "        vertical-align: middle;\n",
       "    }\n",
       "\n",
       "    .dataframe tbody tr th {\n",
       "        vertical-align: top;\n",
       "    }\n",
       "\n",
       "    .dataframe thead th {\n",
       "        text-align: right;\n",
       "    }\n",
       "</style>\n",
       "<table border=\"1\" class=\"dataframe\">\n",
       "  <thead>\n",
       "    <tr style=\"text-align: right;\">\n",
       "      <th></th>\n",
       "      <th>PERCENTAGES</th>\n",
       "    </tr>\n",
       "    <tr>\n",
       "      <th>DAY</th>\n",
       "      <th></th>\n",
       "    </tr>\n",
       "  </thead>\n",
       "  <tbody>\n",
       "    <tr>\n",
       "      <th>Sunday</th>\n",
       "      <td>47.40</td>\n",
       "    </tr>\n",
       "    <tr>\n",
       "      <th>Monday</th>\n",
       "      <td>50.62</td>\n",
       "    </tr>\n",
       "    <tr>\n",
       "      <th>Tuesday</th>\n",
       "      <td>50.76</td>\n",
       "    </tr>\n",
       "    <tr>\n",
       "      <th>Wednesday</th>\n",
       "      <td>50.43</td>\n",
       "    </tr>\n",
       "    <tr>\n",
       "      <th>Thursday</th>\n",
       "      <td>51.24</td>\n",
       "    </tr>\n",
       "    <tr>\n",
       "      <th>Friday</th>\n",
       "      <td>49.50</td>\n",
       "    </tr>\n",
       "    <tr>\n",
       "      <th>Saturday</th>\n",
       "      <td>49.44</td>\n",
       "    </tr>\n",
       "  </tbody>\n",
       "</table>\n",
       "</div>"
      ],
      "text/plain": [
       "           PERCENTAGES\n",
       "DAY                   \n",
       "Sunday           47.40\n",
       "Monday           50.62\n",
       "Tuesday          50.76\n",
       "Wednesday        50.43\n",
       "Thursday         51.24\n",
       "Friday           49.50\n",
       "Saturday         49.44"
      ]
     },
     "execution_count": 36,
     "metadata": {},
     "output_type": "execute_result"
    }
   ],
   "source": [
    "grpd_d = collisions.groupby(['SEVERITYCODE','DAY']).size().unstack(fill_value=0).stack().reset_index(name='COUNTS')\n",
    "grpd_d_SC1 = grpd_d[grpd_d['SEVERITYCODE'] == 1].reset_index()\n",
    "grpd_d_SC2 = grpd_d[grpd_d['SEVERITYCODE'] == 2].reset_index()\n",
    "grpd_d_SC_perc = (grpd_d_SC2[['COUNTS']] / (grpd_d_SC1[['COUNTS']] + grpd_d_SC2[['COUNTS']]) * 100).round(2)\n",
    "grpd_d_SC_perc = pd.concat([grpd_d_SC1['DAY'], grpd_d_SC_perc['COUNTS']], axis = 1)\n",
    "grpd_d_SC_perc.rename(columns = {'COUNTS':'PERCENTAGES'}, inplace = True)\n",
    "\n",
    "#Make the days in the right order\n",
    "sorter = ['Sunday', 'Monday', 'Tuesday', 'Wednesday', 'Thursday', 'Friday', 'Saturday']\n",
    "sorterIndex = dict(zip(sorter,range(len(sorter))))\n",
    "grpd_d_SC_perc['DAY_id'] = grpd_d_SC_perc['DAY'].map(sorterIndex)\n",
    "grpd_d_SC_perc.set_index('DAY', inplace = True)\n",
    "grpd_d_SC_perc.sort_values('DAY_id', inplace=True)\n",
    "grpd_d_SC_perc.drop(['DAY_id'], axis = 1, inplace = True)\n",
    "grpd_d_SC_perc"
   ]
  },
  {
   "cell_type": "code",
   "execution_count": 37,
   "metadata": {},
   "outputs": [
    {
     "data": {
      "image/png": "[encoded data removed]",
      "text/plain": [
       "<Figure size 1440x720 with 1 Axes>"
      ]
     },
     "metadata": {
      "needs_background": "light"
     },
     "output_type": "display_data"
    }
   ],
   "source": [
    "ax_d = grpd_d_SC_perc.plot(kind = 'bar', figsize = (20, 10))\n",
    "ax_d.set_title(\"Percentage of accidents involving injuries among all accidents on different days of a week\", fontsize = 16)\n",
    "legend = ax_d.legend()\n",
    "for percentage in ax_d.patches:\n",
    "    ax_d.annotate(str(percentage.get_height()) + '%', xy = (percentage.get_x(), percentage.get_height() + 0.3), fontsize = 14)"
   ]
  },
  {
   "cell_type": "markdown",
   "metadata": {},
   "source": [
    "We can infer that the accidents are slightly less severe on weekends. "
   ]
  },
  {
   "cell_type": "code",
   "execution_count": 38,
   "metadata": {},
   "outputs": [
    {
     "data": {
      "text/html": [
       "<div>\n",
       "<style scoped>\n",
       "    .dataframe tbody tr th:only-of-type {\n",
       "        vertical-align: middle;\n",
       "    }\n",
       "\n",
       "    .dataframe tbody tr th {\n",
       "        vertical-align: top;\n",
       "    }\n",
       "\n",
       "    .dataframe thead th {\n",
       "        text-align: right;\n",
       "    }\n",
       "</style>\n",
       "<table border=\"1\" class=\"dataframe\">\n",
       "  <thead>\n",
       "    <tr style=\"text-align: right;\">\n",
       "      <th></th>\n",
       "      <th>PERCENTAGES</th>\n",
       "    </tr>\n",
       "    <tr>\n",
       "      <th>MONTH</th>\n",
       "      <th></th>\n",
       "    </tr>\n",
       "  </thead>\n",
       "  <tbody>\n",
       "    <tr>\n",
       "      <th>January</th>\n",
       "      <td>48.11</td>\n",
       "    </tr>\n",
       "    <tr>\n",
       "      <th>February</th>\n",
       "      <td>48.32</td>\n",
       "    </tr>\n",
       "    <tr>\n",
       "      <th>March</th>\n",
       "      <td>49.31</td>\n",
       "    </tr>\n",
       "    <tr>\n",
       "      <th>April</th>\n",
       "      <td>49.87</td>\n",
       "    </tr>\n",
       "    <tr>\n",
       "      <th>May</th>\n",
       "      <td>50.91</td>\n",
       "    </tr>\n",
       "    <tr>\n",
       "      <th>June</th>\n",
       "      <td>49.78</td>\n",
       "    </tr>\n",
       "    <tr>\n",
       "      <th>July</th>\n",
       "      <td>50.94</td>\n",
       "    </tr>\n",
       "    <tr>\n",
       "      <th>August</th>\n",
       "      <td>51.91</td>\n",
       "    </tr>\n",
       "    <tr>\n",
       "      <th>September</th>\n",
       "      <td>50.80</td>\n",
       "    </tr>\n",
       "    <tr>\n",
       "      <th>October</th>\n",
       "      <td>51.18</td>\n",
       "    </tr>\n",
       "    <tr>\n",
       "      <th>November</th>\n",
       "      <td>49.62</td>\n",
       "    </tr>\n",
       "    <tr>\n",
       "      <th>December</th>\n",
       "      <td>48.59</td>\n",
       "    </tr>\n",
       "  </tbody>\n",
       "</table>\n",
       "</div>"
      ],
      "text/plain": [
       "           PERCENTAGES\n",
       "MONTH                 \n",
       "January          48.11\n",
       "February         48.32\n",
       "March            49.31\n",
       "April            49.87\n",
       "May              50.91\n",
       "June             49.78\n",
       "July             50.94\n",
       "August           51.91\n",
       "September        50.80\n",
       "October          51.18\n",
       "November         49.62\n",
       "December         48.59"
      ]
     },
     "execution_count": 38,
     "metadata": {},
     "output_type": "execute_result"
    }
   ],
   "source": [
    "grpd_m = collisions.groupby(['SEVERITYCODE','MONTH']).size().unstack(fill_value=0).stack().reset_index(name='COUNTS')\n",
    "grpd_m\n",
    "grpd_m_SC1 = grpd_m[grpd_m['SEVERITYCODE'] == 1].reset_index()\n",
    "grpd_m_SC2 = grpd_m[grpd_m['SEVERITYCODE'] == 2].reset_index()\n",
    "grpd_m_SC_perc = (grpd_m_SC2[['COUNTS']] / (grpd_m_SC1[['COUNTS']] + grpd_m_SC2[['COUNTS']]) * 100).round(2)\n",
    "grpd_m_SC_perc = pd.concat([grpd_m_SC1['MONTH'], grpd_m_SC_perc['COUNTS']], axis = 1)\n",
    "grpd_m_SC_perc.rename(columns = {'COUNTS':'PERCENTAGES'}, inplace = True)\n",
    "grpd_m_SC_perc\n",
    "\n",
    "#Make the monthss in the right order\n",
    "sorter = ['January', 'February', 'March', 'April', 'May', 'June', 'July', 'August', 'September', 'October', 'November', 'December']\n",
    "sorterIndex = dict(zip(sorter,range(len(sorter))))\n",
    "grpd_m_SC_perc['MONTH_id'] = grpd_m_SC_perc['MONTH'].map(sorterIndex)\n",
    "grpd_m_SC_perc.set_index('MONTH', inplace = True)\n",
    "grpd_m_SC_perc.sort_values('MONTH_id', inplace=True)\n",
    "grpd_m_SC_perc.drop(['MONTH_id'], axis = 1, inplace = True)\n",
    "grpd_m_SC_perc"
   ]
  },
  {
   "cell_type": "code",
   "execution_count": 39,
   "metadata": {},
   "outputs": [
    {
     "name": "stderr",
     "output_type": "stream",
     "text": [
      "/home/jupyterlab/conda/envs/python/lib/python3.6/site-packages/pandas/plotting/_matplotlib/core.py:1192: UserWarning: FixedFormatter should only be used together with FixedLocator\n",
      "  ax.set_xticklabels(xticklabels)\n"
     ]
    },
    {
     "data": {
      "image/png": "[encoded data removed]",
      "text/plain": [
       "<Figure size 1440x720 with 1 Axes>"
      ]
     },
     "metadata": {
      "needs_background": "light"
     },
     "output_type": "display_data"
    }
   ],
   "source": [
    "ax_m = grpd_m_SC_perc.plot(kind = 'line', figsize = (20, 10))\n",
    "ax_m.set_title(\"Percentage of accidents involving injuries among all accidents on different months of a year\", fontsize = 16)\n",
    "legend = ax_m.legend()\n",
    "for percentage in ax_m.patches:\n",
    "    ax_m.annotate(str(percentage.get_height()) + '%', xy = (percentage.get_x(), percentage.get_height() + 0.3), fontsize = 14)"
   ]
  },
  {
   "cell_type": "markdown",
   "metadata": {},
   "source": [
    "We can infer that the accidents are slightly less severe in the winter. "
   ]
  },
  {
   "cell_type": "markdown",
   "metadata": {},
   "source": [
    "## Feature Selection and Preprocessing\n",
    "\n",
    "Before we feed our data into machine learning models, we need to select which features are we need and convert the values to the format which can be fed into machine learning models. \n",
    "\n",
    "In explanatory data analysing step, we analyzed how different features related to the severity of an accidet. Some of the features such as weather condition and address type are strongly correlated to the severity of accidents, while other features such as day of a week or month of a year have only a little correlation with the severity of accidents. In addition, feature weather condition, feature month of a year and feature road condition are overlapping with each others. For example, snowing only happen in winter, and the road condition will be snow when the weather condition is snowing. Feature light condition also overlapping with feature time of a day, when the light condition is night, the time of a day will definitely after 21. \n",
    "\n",
    "Therefore, we only select address type **ADDRTYPE**, weather condition **WEATHER** and light condition **LIGHTCOND** as features. \n",
    "\n",
    "All three features we selected need to be converted to the format that can be fed into machine learning models, we use one-hot encoding to label them. Firstly, split the data into X (features) and Y (target): "
   ]
  },
  {
   "cell_type": "code",
   "execution_count": 182,
   "metadata": {},
   "outputs": [],
   "source": [
    "X = collisions[['ADDRTYPE', 'WEATHER', 'LIGHTCOND']]\n",
    "Y = collisions[['SEVERITYCODE']]"
   ]
  },
  {
   "cell_type": "markdown",
   "metadata": {},
   "source": [
    "Then we encode the features in X using one-hot encoding:"
   ]
  },
  {
   "cell_type": "code",
   "execution_count": 183,
   "metadata": {},
   "outputs": [
    {
     "data": {
      "text/html": [
       "<div>\n",
       "<style scoped>\n",
       "    .dataframe tbody tr th:only-of-type {\n",
       "        vertical-align: middle;\n",
       "    }\n",
       "\n",
       "    .dataframe tbody tr th {\n",
       "        vertical-align: top;\n",
       "    }\n",
       "\n",
       "    .dataframe thead th {\n",
       "        text-align: right;\n",
       "    }\n",
       "</style>\n",
       "<table border=\"1\" class=\"dataframe\">\n",
       "  <thead>\n",
       "    <tr style=\"text-align: right;\">\n",
       "      <th></th>\n",
       "      <th>ADDRTYPE_Block</th>\n",
       "      <th>ADDRTYPE_Intersection</th>\n",
       "      <th>WEATHER_Fog/Smog/Smoke</th>\n",
       "      <th>WEATHER_Overcast</th>\n",
       "      <th>WEATHER_Raining</th>\n",
       "      <th>WEATHER_Sleet/Hail/Freezing Rain</th>\n",
       "      <th>WEATHER_Snowing</th>\n",
       "      <th>LIGHTCOND_Dark - Street Lights Off</th>\n",
       "      <th>LIGHTCOND_Dark - Street Lights On</th>\n",
       "      <th>LIGHTCOND_Dawn</th>\n",
       "      <th>LIGHTCOND_Daylight</th>\n",
       "      <th>LIGHTCOND_Dusk</th>\n",
       "    </tr>\n",
       "  </thead>\n",
       "  <tbody>\n",
       "    <tr>\n",
       "      <th>178895</th>\n",
       "      <td>0</td>\n",
       "      <td>1</td>\n",
       "      <td>0</td>\n",
       "      <td>0</td>\n",
       "      <td>1</td>\n",
       "      <td>0</td>\n",
       "      <td>0</td>\n",
       "      <td>0</td>\n",
       "      <td>0</td>\n",
       "      <td>0</td>\n",
       "      <td>1</td>\n",
       "      <td>0</td>\n",
       "    </tr>\n",
       "    <tr>\n",
       "      <th>176892</th>\n",
       "      <td>0</td>\n",
       "      <td>1</td>\n",
       "      <td>0</td>\n",
       "      <td>0</td>\n",
       "      <td>0</td>\n",
       "      <td>0</td>\n",
       "      <td>0</td>\n",
       "      <td>0</td>\n",
       "      <td>1</td>\n",
       "      <td>0</td>\n",
       "      <td>0</td>\n",
       "      <td>0</td>\n",
       "    </tr>\n",
       "    <tr>\n",
       "      <th>72113</th>\n",
       "      <td>1</td>\n",
       "      <td>0</td>\n",
       "      <td>0</td>\n",
       "      <td>0</td>\n",
       "      <td>0</td>\n",
       "      <td>0</td>\n",
       "      <td>0</td>\n",
       "      <td>0</td>\n",
       "      <td>1</td>\n",
       "      <td>0</td>\n",
       "      <td>0</td>\n",
       "      <td>0</td>\n",
       "    </tr>\n",
       "    <tr>\n",
       "      <th>42683</th>\n",
       "      <td>1</td>\n",
       "      <td>0</td>\n",
       "      <td>0</td>\n",
       "      <td>0</td>\n",
       "      <td>0</td>\n",
       "      <td>0</td>\n",
       "      <td>0</td>\n",
       "      <td>0</td>\n",
       "      <td>0</td>\n",
       "      <td>0</td>\n",
       "      <td>1</td>\n",
       "      <td>0</td>\n",
       "    </tr>\n",
       "    <tr>\n",
       "      <th>194212</th>\n",
       "      <td>0</td>\n",
       "      <td>1</td>\n",
       "      <td>0</td>\n",
       "      <td>0</td>\n",
       "      <td>0</td>\n",
       "      <td>0</td>\n",
       "      <td>0</td>\n",
       "      <td>0</td>\n",
       "      <td>0</td>\n",
       "      <td>0</td>\n",
       "      <td>1</td>\n",
       "      <td>0</td>\n",
       "    </tr>\n",
       "  </tbody>\n",
       "</table>\n",
       "</div>"
      ],
      "text/plain": [
       "        ADDRTYPE_Block  ADDRTYPE_Intersection  WEATHER_Fog/Smog/Smoke  \\\n",
       "178895               0                      1                       0   \n",
       "176892               0                      1                       0   \n",
       "72113                1                      0                       0   \n",
       "42683                1                      0                       0   \n",
       "194212               0                      1                       0   \n",
       "\n",
       "        WEATHER_Overcast  WEATHER_Raining  WEATHER_Sleet/Hail/Freezing Rain  \\\n",
       "178895                 0                1                                 0   \n",
       "176892                 0                0                                 0   \n",
       "72113                  0                0                                 0   \n",
       "42683                  0                0                                 0   \n",
       "194212                 0                0                                 0   \n",
       "\n",
       "        WEATHER_Snowing  LIGHTCOND_Dark - Street Lights Off  \\\n",
       "178895                0                                   0   \n",
       "176892                0                                   0   \n",
       "72113                 0                                   0   \n",
       "42683                 0                                   0   \n",
       "194212                0                                   0   \n",
       "\n",
       "        LIGHTCOND_Dark - Street Lights On  LIGHTCOND_Dawn  LIGHTCOND_Daylight  \\\n",
       "178895                                  0               0                   1   \n",
       "176892                                  1               0                   0   \n",
       "72113                                   1               0                   0   \n",
       "42683                                   0               0                   1   \n",
       "194212                                  0               0                   1   \n",
       "\n",
       "        LIGHTCOND_Dusk  \n",
       "178895               0  \n",
       "176892               0  \n",
       "72113                0  \n",
       "42683                0  \n",
       "194212               0  "
      ]
     },
     "execution_count": 183,
     "metadata": {},
     "output_type": "execute_result"
    }
   ],
   "source": [
    "X = pd.get_dummies(X, drop_first = True, columns = ['ADDRTYPE', 'WEATHER', 'LIGHTCOND'])\n",
    "X.head()"
   ]
  },
  {
   "cell_type": "markdown",
   "metadata": {},
   "source": [
    "For train/test split, we use 70% of the data for training and 30% of the data for testing. "
   ]
  },
  {
   "cell_type": "code",
   "execution_count": 184,
   "metadata": {},
   "outputs": [
    {
     "name": "stdout",
     "output_type": "stream",
     "text": [
      "Train set: (77660, 12) (77660, 1)\n",
      "Test set: (33284, 12) (33284, 1)\n"
     ]
    }
   ],
   "source": [
    "X_train, X_test, Y_train, Y_test = train_test_split(X, Y, test_size=0.3, random_state=2)\n",
    "print ('Train set:', X_train.shape,  Y_train.shape)\n",
    "print ('Test set:', X_test.shape,  Y_test.shape)"
   ]
  },
  {
   "cell_type": "markdown",
   "metadata": {},
   "source": [
    "## Machine Learning Models\n",
    "\n",
    "Because the task of this project is to classification and our target only have two values, we use decision tree and logistic regression as our machine learning models. "
   ]
  },
  {
   "cell_type": "markdown",
   "metadata": {},
   "source": [
    "### Decision Tree"
   ]
  },
  {
   "cell_type": "code",
   "execution_count": 185,
   "metadata": {},
   "outputs": [],
   "source": [
    "from sklearn import tree\n",
    "from sklearn.tree import DecisionTreeClassifier\n",
    "\n",
    "collision_tree = tree.DecisionTreeClassifier(random_state=0)\n",
    "clf = collision_tree.fit(X_train,Y_train)\n",
    "Y_DT_pred = collision_tree.predict(X_test)\n",
    "#fig, ax_tree = plt.subplots(figsize=(50, 40))\n",
    "#tree.plot_tree(clf, fontsize=10)\n",
    "#plt.show()"
   ]
  },
  {
   "cell_type": "markdown",
   "metadata": {},
   "source": [
    "### Logistic Regression"
   ]
  },
  {
   "cell_type": "code",
   "execution_count": 186,
   "metadata": {},
   "outputs": [
    {
     "name": "stderr",
     "output_type": "stream",
     "text": [
      "/home/jupyterlab/conda/envs/python/lib/python3.6/site-packages/sklearn/utils/validation.py:72: DataConversionWarning: A column-vector y was passed when a 1d array was expected. Please change the shape of y to (n_samples, ), for example using ravel().\n",
      "  return f(**kwargs)\n"
     ]
    }
   ],
   "source": [
    "from sklearn.linear_model import LogisticRegression\n",
    "\n",
    "LR = LogisticRegression(C = 1, solver='liblinear')\n",
    "LR.fit(X_train, Y_train)\n",
    "Y_LR_pred = LR.predict(X_test)\n",
    "Y_LR_prob = LR.predict_proba(X_test)"
   ]
  },
  {
   "cell_type": "markdown",
   "metadata": {},
   "source": [
    "# Results and Evaluation\n",
    "\n",
    "Now, check the accuracy of our models, "
   ]
  },
  {
   "cell_type": "code",
   "execution_count": 158,
   "metadata": {},
   "outputs": [],
   "source": [
    "from sklearn.metrics import f1_score\n",
    "from sklearn.metrics import log_loss"
   ]
  },
  {
   "cell_type": "markdown",
   "metadata": {},
   "source": [
    "## Decision Tree"
   ]
  },
  {
   "cell_type": "code",
   "execution_count": 187,
   "metadata": {},
   "outputs": [
    {
     "data": {
      "text/plain": [
       "0.5860910942444686"
      ]
     },
     "execution_count": 187,
     "metadata": {},
     "output_type": "execute_result"
    }
   ],
   "source": [
    "f1_score(Y_test, Y_DT_pred, average='macro')"
   ]
  },
  {
   "cell_type": "code",
   "execution_count": 165,
   "metadata": {},
   "outputs": [
    {
     "name": "stdout",
     "output_type": "stream",
     "text": [
      "              precision    recall  f1-score   support\n",
      "\n",
      "           1       0.58      0.70      0.63     16662\n",
      "           2       0.61      0.48      0.54     16622\n",
      "\n",
      "    accuracy                           0.59     33284\n",
      "   macro avg       0.59      0.59      0.59     33284\n",
      "weighted avg       0.59      0.59      0.59     33284\n",
      "\n"
     ]
    }
   ],
   "source": [
    "print(classification_report(Y_test, Y_DT_pred))"
   ]
  },
  {
   "cell_type": "markdown",
   "metadata": {},
   "source": [
    "## Logistic Regression"
   ]
  },
  {
   "cell_type": "code",
   "execution_count": 163,
   "metadata": {},
   "outputs": [
    {
     "data": {
      "text/plain": [
       "0.5865646443755439"
      ]
     },
     "execution_count": 163,
     "metadata": {},
     "output_type": "execute_result"
    }
   ],
   "source": [
    "f1_score(Y_test, Y_LR_pred, average='macro')"
   ]
  },
  {
   "cell_type": "code",
   "execution_count": 168,
   "metadata": {},
   "outputs": [
    {
     "data": {
      "text/plain": [
       "0.6745473339536407"
      ]
     },
     "execution_count": 168,
     "metadata": {},
     "output_type": "execute_result"
    }
   ],
   "source": [
    "log_loss(Y_test, Y_LR_prob)"
   ]
  },
  {
   "cell_type": "code",
   "execution_count": 166,
   "metadata": {},
   "outputs": [
    {
     "name": "stdout",
     "output_type": "stream",
     "text": [
      "              precision    recall  f1-score   support\n",
      "\n",
      "           1       0.58      0.70      0.63     16662\n",
      "           2       0.61      0.49      0.54     16622\n",
      "\n",
      "    accuracy                           0.59     33284\n",
      "   macro avg       0.60      0.59      0.59     33284\n",
      "weighted avg       0.60      0.59      0.59     33284\n",
      "\n"
     ]
    }
   ],
   "source": [
    "print(classification_report(Y_test, Y_LR_pred))"
   ]
  },
  {
   "cell_type": "markdown",
   "metadata": {},
   "source": [
    "## Descussion and Conclusion\n",
    "\n",
    "At the beginning of this project, we first cleaned the data. We dropped the missing values, dropped the values with insufficient data, changed the data type of features to our desired data type, then made the data balanced by downsampling the majority class to match the minority class. \n",
    "\n",
    "After we cleaned the data, we visualized the data. We compared the probabilities of injury in accidents under different address types, road conditions, weather conditions, light conditions, time of days, day of weeks and month of years. Then we decided to use address type, weather condition and light condition as features for our machine learning model. \n",
    "\n",
    "After we cleaned and analyzed the data, we encoded the features using one-hot encoding, then we feed the data to two machine learning modele: decision tree and logistic regression. \n",
    "\n",
    "We used F-1 score to test the accuracy of our decision tree model and logistic regression model and we also used logistic loss to test the accuracy of our logistic regression model. \n",
    "\n",
    "However, the result is not as good as we expected, the accuracy of both models are not very high. Therefore, we conclude that location, condition and time have some impact on the severity of an accident. "
   ]
  },
  {
   "cell_type": "code",
   "execution_count": null,
   "metadata": {},
   "outputs": [],
   "source": []
  }
 ],
 "metadata": {
  "kernelspec": {
   "display_name": "Python",
   "language": "python",
   "name": "conda-env-python-py"
  },
  "language_info": {
   "codemirror_mode": {
    "name": "ipython",
    "version": 3
   },
   "file_extension": ".py",
   "mimetype": "text/x-python",
   "name": "python",
   "nbconvert_exporter": "python",
   "pygments_lexer": "ipython3",
   "version": "3.6.11"
  }
 },
 "nbformat": 4,
 "nbformat_minor": 4
}
